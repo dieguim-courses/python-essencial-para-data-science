{
 "cells": [
  {
   "cell_type": "markdown",
   "metadata": {},
   "source": [
    "## **Python Essencial para Data Science**\n",
    "**Prof. Dr. Samuel Martins (@hisamuka @xavecoding)** <br/>\n",
    "xavecoding: https://youtube.com/c/xavecoding <br/><br/>\n",
    "\n",
    "<a rel=\"license\" href=\"http://creativecommons.org/licenses/by-nc-sa/4.0/\"><img alt=\"Creative Commons License\" style=\"border-width:0\" src=\"https://i.creativecommons.org/l/by-nc-sa/4.0/88x31.png\" /></a><br />This work is licensed under a <a rel=\"license\" href=\"http://creativecommons.org/licenses/by-nc-sa/4.0/\">Creative Commons Attribution-NonCommercial-ShareAlike 4.0 International License</a>."
   ]
  },
  {
   "cell_type": "markdown",
   "metadata": {},
   "source": [
    "## Funções\n",
    "\n",
    "### Esqueleto de uma função em python:\n",
    "```python\n",
    "def functionName(param1, param2, param3=val):\n",
    "    instruction 01\n",
    "    instruction 02\n",
    "    return X\n",
    "```"
   ]
  },
  {
   "cell_type": "markdown",
   "metadata": {},
   "source": [
    "### Funções podem NÃO ter retorno"
   ]
  },
  {
   "cell_type": "code",
   "execution_count": 35,
   "metadata": {},
   "outputs": [
    {
     "name": "stdout",
     "output_type": "stream",
     "text": [
      "Imprimindo a variável x\n",
      "10\n",
      "\n",
      "Imprimindo a variável x\n",
      "Marquinhos dos Santos\n",
      "\n"
     ]
    }
   ],
   "source": [
    "def print_parametro(x):\n",
    "    print('Imprimindo a variável x')\n",
    "    print(x)\n",
    "    print('')\n",
    "    \n",
    "a = 10\n",
    "print_parametro(a)\n",
    "\n",
    "nome = 'Marquinhos dos Santos'\n",
    "print_parametro(nome)"
   ]
  },
  {
   "cell_type": "markdown",
   "metadata": {},
   "source": [
    "### Funções podem ter retorno"
   ]
  },
  {
   "cell_type": "code",
   "execution_count": 22,
   "metadata": {},
   "outputs": [
    {
     "name": "stdout",
     "output_type": "stream",
     "text": [
      "30\n"
     ]
    }
   ],
   "source": [
    "def soma(x, y):\n",
    "    return x + y\n",
    "\n",
    "a = 10\n",
    "b = 20\n",
    "c = soma(a, b)\n",
    "print(c)"
   ]
  },
  {
   "cell_type": "code",
   "execution_count": 23,
   "metadata": {},
   "outputs": [
    {
     "data": {
      "text/plain": [
       "function"
      ]
     },
     "execution_count": 23,
     "metadata": {},
     "output_type": "execute_result"
    }
   ],
   "source": [
    "type(soma)"
   ]
  },
  {
   "cell_type": "markdown",
   "metadata": {},
   "source": [
    "### Funções podem ter múltiplos retornos"
   ]
  },
  {
   "cell_type": "code",
   "execution_count": 24,
   "metadata": {},
   "outputs": [
    {
     "name": "stdout",
     "output_type": "stream",
     "text": [
      "<class 'int'>\n",
      "10 + 20 = 30\n",
      "10 - 20 = -10\n"
     ]
    }
   ],
   "source": [
    "def soma_e_subtracao(x, y):\n",
    "    soma = x + y\n",
    "    sub = x - y\n",
    "    print(type(soma))\n",
    "    \n",
    "    return soma, sub\n",
    "    \n",
    "a = 10\n",
    "b = 20\n",
    "    \n",
    "soma_ab, sub_ab = soma_e_subtracao(a, b)\n",
    "print(f'{a} + {b} = {soma_ab}\\n{a} - {b} = {sub_ab}')"
   ]
  },
  {
   "cell_type": "code",
   "execution_count": 25,
   "metadata": {},
   "outputs": [
    {
     "data": {
      "text/plain": [
       "function"
      ]
     },
     "execution_count": 25,
     "metadata": {},
     "output_type": "execute_result"
    }
   ],
   "source": [
    "type(soma)"
   ]
  },
  {
   "cell_type": "markdown",
   "metadata": {},
   "source": [
    "### Escopo\n",
    "Todo **escopo** em Python (funções, loops, condicionais, classes, etc...) usam *dois pontos (:)* e *identação*:\n",
    "Os **dois pontos (:)** servem para _\"abrir\"_ o escopo, e _cada instrução_ dentro do escopo devem ser **identadas** à direita.\n",
    "\n",
    "Convenciona-se usar *espaços* ao invés de *tabs* para a **identação**. Todas as instruções do escopo **devem ter a mesma identação** (p. ex, a mesma quantidade de espaços)."
   ]
  },
  {
   "cell_type": "markdown",
   "metadata": {},
   "source": [
    "```python\n",
    "def functionName(param1, param2, param3=val):\n",
    "    instruction 01  # 4 espaços de identação\n",
    "    instruction 02  # 4 espaços de identação\n",
    "    return X  # 4 espaços de identação\n",
    "```"
   ]
  },
  {
   "cell_type": "markdown",
   "metadata": {},
   "source": [
    "### Funções com parâmetros default (opcionais)"
   ]
  },
  {
   "cell_type": "markdown",
   "metadata": {},
   "source": [
    "Os parâmetros opcionais (ou seja, com valores _default_) devem sempre serem **os últimos parâmetros da função**."
   ]
  },
  {
   "cell_type": "code",
   "execution_count": 38,
   "metadata": {},
   "outputs": [
    {
     "name": "stdout",
     "output_type": "stream",
     "text": [
      "Cadastro de usuários no sistema Gugol\n",
      "login: manezinho\n",
      "senha: mucho_lok0\n"
     ]
    }
   ],
   "source": [
    "def cadastrar_usuario(sistema, login='user', senha='123'):\n",
    "    print(f'Cadastro de usuários no sistema {sistema}')\n",
    "    print(f'login: {login}')\n",
    "    print(f'senha: {senha}')\n",
    "    \n",
    "sistema_1 = 'Gugol'\n",
    "login_1 = 'manezinho'\n",
    "senha_1 = 'mucho_lok0'\n",
    "\n",
    "cadastrar_usuario(sistema_1, login_1, senha_1)"
   ]
  },
  {
   "cell_type": "markdown",
   "metadata": {},
   "source": [
    "<br/>\n",
    "Caso o parâmetro não seja chamado, seu valor default é usado."
   ]
  },
  {
   "cell_type": "code",
   "execution_count": 27,
   "metadata": {},
   "outputs": [
    {
     "name": "stdout",
     "output_type": "stream",
     "text": [
      "Cadastro de usuários no sistema Feicigroup\n",
      "login: jurandir\n",
      "senha: 123\n"
     ]
    }
   ],
   "source": [
    "sistema_2 = 'Feicigroup'\n",
    "login_2 = 'jurandir'\n",
    "\n",
    "cadastrar_usuario(sistema_2, login_2)"
   ]
  },
  {
   "cell_type": "code",
   "execution_count": 28,
   "metadata": {},
   "outputs": [
    {
     "name": "stdout",
     "output_type": "stream",
     "text": [
      "Cadastro de usuários no sistema Güitruby\n",
      "login: user\n",
      "senha: 123\n"
     ]
    }
   ],
   "source": [
    "cadastrar_usuario('Güitruby')"
   ]
  },
  {
   "cell_type": "code",
   "execution_count": 33,
   "metadata": {},
   "outputs": [
    {
     "ename": "SyntaxError",
     "evalue": "non-default argument follows default argument (<ipython-input-33-6f1a710d102e>, line 3)",
     "output_type": "error",
     "traceback": [
      "\u001b[0;36m  File \u001b[0;32m\"<ipython-input-33-6f1a710d102e>\"\u001b[0;36m, line \u001b[0;32m3\u001b[0m\n\u001b[0;31m    def login_no_sistema(login='user', senha):\u001b[0m\n\u001b[0m                         ^\u001b[0m\n\u001b[0;31mSyntaxError\u001b[0m\u001b[0;31m:\u001b[0m non-default argument follows default argument\n"
     ]
    }
   ],
   "source": [
    "#### NÃO FUNCIONA!\n",
    "## Argumento com valor padrão deve estar no final da lista de argumentos da função\n",
    "def login_no_sistema(login='user', senha):\n",
    "    print(f'login: {login}')\n",
    "    print(f'senha: {senha}')"
   ]
  },
  {
   "cell_type": "markdown",
   "metadata": {},
   "source": [
    "### Parâmetros Nomeados\n",
    "Ao chamar uma função, podemos passar seus parâmetros em qualquer ordem. Basta que informemos o nome do argumento/variável da função."
   ]
  },
  {
   "cell_type": "code",
   "execution_count": 36,
   "metadata": {},
   "outputs": [
    {
     "name": "stdout",
     "output_type": "stream",
     "text": [
      "Cadastro de usuários no sistema iutubi\n",
      "login: user\n",
      "senha: fulera\n"
     ]
    }
   ],
   "source": [
    "cadastrar_usuario(senha='fulera', sistema='iutubi')"
   ]
  },
  {
   "cell_type": "markdown",
   "metadata": {},
   "source": [
    "### Function Annotations (PEP 3107)\n",
    "Há a possibilidade de **indicar** o tipo de parâmetros e o tipo de retorno retorno de funções em Python. <br/>\n",
    "Isso se chama _function annotation_.\n",
    "\n",
    "Os tipos indicados **apenas** servem como indicativo ao programador dos tipos de dados esperados. <br/>\n",
    "Algumas bibliotecas externas também podem interpretar tais \"metas anotações\" para algum propósito.\n",
    "\n",
    "Portanto, o interpretador python **NÃO** leva essas anotações de tipos em consideração durante sua execução."
   ]
  },
  {
   "cell_type": "code",
   "execution_count": 42,
   "metadata": {},
   "outputs": [],
   "source": [
    "def soma_de_inteiros(x: int, y: int) -> int:\n",
    "    return x + y"
   ]
  },
  {
   "cell_type": "code",
   "execution_count": 43,
   "metadata": {},
   "outputs": [
    {
     "data": {
      "text/plain": [
       "40"
      ]
     },
     "execution_count": 43,
     "metadata": {},
     "output_type": "execute_result"
    }
   ],
   "source": [
    "soma_de_inteiros(10, 30)"
   ]
  },
  {
   "cell_type": "markdown",
   "metadata": {},
   "source": [
    "Parâmetros de outros tipos são aceitos e processados normalmente."
   ]
  },
  {
   "cell_type": "code",
   "execution_count": 44,
   "metadata": {},
   "outputs": [
    {
     "data": {
      "text/plain": [
       "11.559999999999999"
      ]
     },
     "execution_count": 44,
     "metadata": {},
     "output_type": "execute_result"
    }
   ],
   "source": [
    "soma_de_inteiros(4.8, 6.76)"
   ]
  },
  {
   "cell_type": "code",
   "execution_count": 47,
   "metadata": {},
   "outputs": [
    {
     "data": {
      "text/plain": [
       "'somando strings'"
      ]
     },
     "execution_count": 47,
     "metadata": {},
     "output_type": "execute_result"
    }
   ],
   "source": [
    "soma_de_inteiros('somando ', 'strings')"
   ]
  },
  {
   "cell_type": "markdown",
   "metadata": {},
   "source": [
    "### Comentários e Docstring\n",
    "Em Python, comentários são definidos de duas maneiras:\n",
    "\n",
    "1. Utilizando # (comentário de uma linha só)"
   ]
  },
  {
   "cell_type": "code",
   "execution_count": 48,
   "metadata": {},
   "outputs": [],
   "source": [
    "# este é um comentário de uma linha só"
   ]
  },
  {
   "cell_type": "markdown",
   "metadata": {},
   "source": [
    "2. Usando _Docstrings_ (múltiplas linhas)"
   ]
  },
  {
   "cell_type": "code",
   "execution_count": 49,
   "metadata": {},
   "outputs": [
    {
     "data": {
      "text/plain": [
       "'Este é um comentário\\nde múltiplas\\nlinhas'"
      ]
     },
     "execution_count": 49,
     "metadata": {},
     "output_type": "execute_result"
    }
   ],
   "source": [
    "'''Este é um comentário\n",
    "de múltiplas\n",
    "linhas'''\n"
   ]
  },
  {
   "cell_type": "code",
   "execution_count": 50,
   "metadata": {},
   "outputs": [
    {
     "data": {
      "text/plain": [
       "'Este é outro comentário\\nde múltiplas\\nlinhas'"
      ]
     },
     "execution_count": 50,
     "metadata": {},
     "output_type": "execute_result"
    }
   ],
   "source": [
    "\"\"\"Este é outro comentário\n",
    "de múltiplas\n",
    "linhas\"\"\""
   ]
  },
  {
   "cell_type": "markdown",
   "metadata": {},
   "source": [
    "<br/>\n",
    "Docstrings podem ser usados para documentar funções:"
   ]
  },
  {
   "cell_type": "code",
   "execution_count": 60,
   "metadata": {},
   "outputs": [],
   "source": [
    "def soma(x, y):\n",
    "    '''Esta função soma dois números inteiros.\n",
    "\n",
    "    Parameters:\n",
    "    x (int): Primeiro número inteiro.\n",
    "    y (int): Segundo número inteiro.\n",
    "\n",
    "    Returns:\n",
    "    int: Soma resultante\n",
    "    '''\n",
    "    return x + y"
   ]
  },
  {
   "cell_type": "markdown",
   "metadata": {},
   "source": [
    "<br/>\n",
    "Quando uma função (ou classe) está documentada usando _docstring_, é possível usar a função **help()** para ler a documentação:"
   ]
  },
  {
   "cell_type": "code",
   "execution_count": 61,
   "metadata": {},
   "outputs": [
    {
     "name": "stdout",
     "output_type": "stream",
     "text": [
      "Help on function soma in module __main__:\n",
      "\n",
      "soma(x, y)\n",
      "    Esta função soma dois números inteiros.\n",
      "    \n",
      "    Parameters:\n",
      "    x (int): Primeiro número inteiro.\n",
      "    y (int): Segundo número inteiro.\n",
      "    \n",
      "    Returns:\n",
      "    int: Soma resultante\n",
      "\n"
     ]
    }
   ],
   "source": [
    "help(soma)"
   ]
  }
 ],
 "metadata": {
  "kernelspec": {
   "display_name": "Python 3",
   "language": "python",
   "name": "python3"
  },
  "language_info": {
   "codemirror_mode": {
    "name": "ipython",
    "version": 3
   },
   "file_extension": ".py",
   "mimetype": "text/x-python",
   "name": "python",
   "nbconvert_exporter": "python",
   "pygments_lexer": "ipython3",
   "version": "3.8.8"
  }
 },
 "nbformat": 4,
 "nbformat_minor": 4
}

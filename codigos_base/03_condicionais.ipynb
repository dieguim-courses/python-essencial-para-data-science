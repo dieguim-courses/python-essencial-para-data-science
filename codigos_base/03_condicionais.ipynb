{
 "cells": [
  {
   "cell_type": "markdown",
   "metadata": {},
   "source": [
    "## **Python Essencial para Data Science**\n",
    "**Prof. Dr. Samuel Martins (@hisamuka @xavecoding)** <br/>\n",
    "xavecoding: https://youtube.com/c/xavecoding <br/><br/>\n",
    "\n",
    "<a rel=\"license\" href=\"http://creativecommons.org/licenses/by-nc-sa/4.0/\"><img alt=\"Creative Commons License\" style=\"border-width:0\" src=\"https://i.creativecommons.org/l/by-nc-sa/4.0/88x31.png\" /></a><br />This work is licensed under a <a rel=\"license\" href=\"http://creativecommons.org/licenses/by-nc-sa/4.0/\">Creative Commons Attribution-NonCommercial-ShareAlike 4.0 International License</a>."
   ]
  },
  {
   "cell_type": "markdown",
   "metadata": {},
   "source": [
    "## Condicionais\n",
    "\n",
    "### Estrutura básica de um IF:\n",
    "```python\n",
    "if condition 01:\n",
    "    Instruction 01\n",
    "    Instruction 02\n",
    "elif (condition 02):\n",
    "    Instruction 03\n",
    "    Instruction 04\n",
    "else:\n",
    "    Instruction 05\n",
    "    Instruction 06\n",
    "```\n",
    "    \n",
    "Note que as **identações** definem o _escopo_ de cada opção resultante do IF.\n",
    "\n",
    "As condições devem resultar um valor boolean (True ou False)."
   ]
  },
  {
   "cell_type": "markdown",
   "metadata": {},
   "source": [
    "### Operadores de Comparação\n",
    "\n",
    "| Operação      | Descrição                           || Operação      | Descrição                           |\n",
    "|---------------|-------------------------------------||---------------|-------------------------------------|\n",
    "| ``a == b``    | ``a`` igual a ``b``                 || ``a != b``    | ``a`` diferente de ``b``            |\n",
    "| ``a < b``     | ``a`` menor do que ``b``            || ``a > b``     | ``a`` maior do que ``b``            |\n",
    "| ``a <= b``    | ``a`` menor do que ou igual a ``b`` || ``a >= b``    | ``a`` maior do que ou igual a ``b`` |"
   ]
  },
  {
   "cell_type": "code",
   "execution_count": 1,
   "metadata": {},
   "outputs": [
    {
     "name": "stdout",
     "output_type": "stream",
     "text": [
      "Di menor\n"
     ]
    }
   ],
   "source": [
    "idade = 16\n",
    "\n",
    "if idade < 18:\n",
    "    print('Di menor')\n",
    "else:\n",
    "    print('Liberado')"
   ]
  },
  {
   "cell_type": "code",
   "execution_count": 3,
   "metadata": {},
   "outputs": [
    {
     "name": "stdout",
     "output_type": "stream",
     "text": [
      "Em recuperação\n"
     ]
    }
   ],
   "source": [
    "media_final = 5.0\n",
    "\n",
    "if media_final < 4.0:\n",
    "    print('Reprovado')\n",
    "elif media_final < 6.0:\n",
    "    print('Em recuperação')\n",
    "else:\n",
    "    print('Aprovado')"
   ]
  },
  {
   "cell_type": "markdown",
   "metadata": {},
   "source": [
    "Opcionalmente, podemos usar _parênteses_ nas condições."
   ]
  },
  {
   "cell_type": "code",
   "execution_count": 4,
   "metadata": {},
   "outputs": [
    {
     "name": "stdout",
     "output_type": "stream",
     "text": [
      "Em recuperação\n"
     ]
    }
   ],
   "source": [
    "media_final = 5.0\n",
    "\n",
    "if (media_final < 4.0):\n",
    "    print('Reprovado')\n",
    "elif (media_final < 6.0):\n",
    "    print('Em recuperação')\n",
    "else:\n",
    "    print('Aprovado')"
   ]
  },
  {
   "cell_type": "markdown",
   "metadata": {},
   "source": [
    "### Comparando Booleans"
   ]
  },
  {
   "cell_type": "code",
   "execution_count": 5,
   "metadata": {},
   "outputs": [
    {
     "data": {
      "text/plain": [
       "(True, False)"
      ]
     },
     "execution_count": 5,
     "metadata": {},
     "output_type": "execute_result"
    }
   ],
   "source": [
    "True, False"
   ]
  },
  {
   "cell_type": "code",
   "execution_count": 6,
   "metadata": {},
   "outputs": [
    {
     "data": {
      "text/plain": [
       "bool"
      ]
     },
     "execution_count": 6,
     "metadata": {},
     "output_type": "execute_result"
    }
   ],
   "source": [
    "type(True)"
   ]
  },
  {
   "cell_type": "code",
   "execution_count": 15,
   "metadata": {},
   "outputs": [
    {
     "name": "stdout",
     "output_type": "stream",
     "text": [
      "Aluno está matriculado\n"
     ]
    }
   ],
   "source": [
    "aluno_esta_matriculado = True\n",
    "\n",
    "if aluno_esta_matriculado is True:\n",
    "    print('Aluno está matriculado')"
   ]
  },
  {
   "cell_type": "code",
   "execution_count": 16,
   "metadata": {},
   "outputs": [
    {
     "name": "stdout",
     "output_type": "stream",
     "text": [
      "Aluno está matriculado\n"
     ]
    }
   ],
   "source": [
    "if aluno_esta_matriculado:\n",
    "    print('Aluno está matriculado')"
   ]
  },
  {
   "cell_type": "code",
   "execution_count": 17,
   "metadata": {},
   "outputs": [
    {
     "name": "stdout",
     "output_type": "stream",
     "text": [
      "Professor não é firmeza\n"
     ]
    }
   ],
   "source": [
    "prof_eh_firmeza = False\n",
    "\n",
    "if prof_eh_firmeza is False:\n",
    "    print('Professor não é firmeza')"
   ]
  },
  {
   "cell_type": "code",
   "execution_count": 18,
   "metadata": {},
   "outputs": [
    {
     "name": "stdout",
     "output_type": "stream",
     "text": [
      "Professor não é firmeza\n"
     ]
    }
   ],
   "source": [
    "if not prof_eh_firmeza:\n",
    "    print('Professor não é firmeza')"
   ]
  },
  {
   "cell_type": "markdown",
   "metadata": {},
   "source": [
    "### Combinando condições com `and` e`or`"
   ]
  },
  {
   "cell_type": "code",
   "execution_count": 19,
   "metadata": {},
   "outputs": [],
   "source": [
    "## Correspondêcia de linguagens baseadas no C:\n",
    "# and ==> &&\n",
    "# or  ==> ||\n",
    "# not ==> !"
   ]
  },
  {
   "cell_type": "code",
   "execution_count": 20,
   "metadata": {},
   "outputs": [
    {
     "data": {
      "text/plain": [
       "5.0"
      ]
     },
     "execution_count": 20,
     "metadata": {},
     "output_type": "execute_result"
    }
   ],
   "source": [
    "media_final"
   ]
  },
  {
   "cell_type": "code",
   "execution_count": 23,
   "metadata": {},
   "outputs": [
    {
     "name": "stdout",
     "output_type": "stream",
     "text": [
      "Em recuperação\n",
      "Em recuperação\n",
      "Em recuperação\n"
     ]
    }
   ],
   "source": [
    "if media_final >= 4.0 and media_final < 6.0:\n",
    "    print('Em recuperação')\n",
    "    \n",
    "if (media_final >= 4.0) and (media_final < 6.0):\n",
    "    print('Em recuperação')\n",
    "    \n",
    "if ((media_final >= 4.0) and (media_final < 6.0)):\n",
    "    print('Em recuperação')"
   ]
  },
  {
   "cell_type": "code",
   "execution_count": 27,
   "metadata": {},
   "outputs": [
    {
     "name": "stdout",
     "output_type": "stream",
     "text": [
      "Não foi para recuperação\n"
     ]
    }
   ],
   "source": [
    "media_final = 3.0\n",
    "\n",
    "if media_final < 4.0 or media_final >= 6.0:\n",
    "    print('Não foi para recuperação')"
   ]
  },
  {
   "cell_type": "code",
   "execution_count": 28,
   "metadata": {},
   "outputs": [
    {
     "name": "stdout",
     "output_type": "stream",
     "text": [
      "Professor firmeza reprovou aluno\n"
     ]
    }
   ],
   "source": [
    "media_final = 3.0\n",
    "prof_eh_firmeza = True\n",
    "\n",
    "if media_final < 4.0 and prof_eh_firmeza:\n",
    "    print('Professor firmeza reprovou aluno')"
   ]
  },
  {
   "cell_type": "markdown",
   "metadata": {},
   "source": [
    "### Armazenando booleans resultantes de condicionais"
   ]
  },
  {
   "cell_type": "code",
   "execution_count": 31,
   "metadata": {},
   "outputs": [
    {
     "name": "stdout",
     "output_type": "stream",
     "text": [
      "Foi aprovado? True\n"
     ]
    }
   ],
   "source": [
    "media_final = 7.0\n",
    "\n",
    "foi_aprovado = media_final >= 6.0\n",
    "\n",
    "print(f'Foi aprovado? {foi_aprovado}')"
   ]
  },
  {
   "cell_type": "code",
   "execution_count": 36,
   "metadata": {},
   "outputs": [
    {
     "name": "stdout",
     "output_type": "stream",
     "text": [
      "Em recuperação? True\n"
     ]
    }
   ],
   "source": [
    "media_final = 5.0\n",
    "\n",
    "em_recuperacao = media_final >= 4.0 or media_final < 6\n",
    "# em_recuperacao = (media_final >= 4.0) or (media_final < 6) # pode-se usar parêntesis, para legibilidade\n",
    "\n",
    "print(f'Em recuperação? {em_recuperacao}')"
   ]
  },
  {
   "cell_type": "markdown",
   "metadata": {},
   "source": [
    "### Condicionais em uma única linha"
   ]
  },
  {
   "cell_type": "code",
   "execution_count": 43,
   "metadata": {},
   "outputs": [
    {
     "name": "stdout",
     "output_type": "stream",
     "text": [
      "Reprovado\n"
     ]
    }
   ],
   "source": [
    "# reprovado < 6.0\n",
    "# aprovado >= 6.0\n",
    "\n",
    "media_final = 3.0\n",
    "\n",
    "status = 'Reprovado' if media_final < 6 else 'Aprovado'\n",
    "\n",
    "## é equivalente ao código abaixo:\n",
    "# if media_final < 6:\n",
    "#     status = 'Reprovado'\n",
    "# else:\n",
    "#     status = 'Aprovado'\n",
    "\n",
    "print(status)"
   ]
  }
 ],
 "metadata": {
  "kernelspec": {
   "display_name": "Python 3",
   "language": "python",
   "name": "python3"
  },
  "language_info": {
   "codemirror_mode": {
    "name": "ipython",
    "version": 3
   },
   "file_extension": ".py",
   "mimetype": "text/x-python",
   "name": "python",
   "nbconvert_exporter": "python",
   "pygments_lexer": "ipython3",
   "version": "3.8.8"
  }
 },
 "nbformat": 4,
 "nbformat_minor": 4
}
